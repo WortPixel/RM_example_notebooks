{
 "cells": [
  {
   "cell_type": "markdown",
   "metadata": {
    "tags": [
     "prototyping"
    ]
   },
   "source": [
    "# Sample notebook execution in RapidMiner\n",
    "Any Jupyter Notebook can just be executed inside RapidMiner with the same Python environment. No changes to the notebook are necessary. Also there are several options to enhance the experience:\n",
    "\n",
    "- Providing a function returning a Pandas DataFrame: this directly makes the data usable after calling a notebook from within RapidMiner.\n",
    "- Adding a meta-data dictionary to a data frame that should be returned in order to provide additional information to colleagues about the data. RapidMiner specific roles like: 'label', 'prediction', but also self-defined ones can be used.\n",
    "- Adding jupyter notebook tags in order to allow filtering which cells should be loaded by the RapidMiner user.\n",
    "- Using the RapidMiner Python library to store data directly inside a RapidMiner repository.\n",
    "- Using the RapidMiner Python library to execute RapidMiner processes.\n",
    "\n",
    "## Demo process summary:\n",
    "In this notebook the boston housing data set is loaded and examined. Afterwards a random forest regressor is trained on a subset and applied on a test data set. Finally a new pandas data frame is created storing the test data, the predicted values, true label values and additional meta-data. This data frame provided through a function that RapidMiner awaits and thus directly available for a RapidMiner user to use as an ExampleSet.\n",
    "\n",
    "The demo process contains the tag 'prototyping' which can be used inside a RapidMiner process to filter out these cells to only exclude no prototype cells."
   ]
  },
  {
   "cell_type": "code",
   "execution_count": null,
   "metadata": {},
   "outputs": [],
   "source": [
    "import matplotlib.pyplot as plt\n",
    "import pandas as pd\n",
    "\n",
    "from sklearn import datasets\n",
    "from sklearn.ensemble import RandomForestRegressor\n",
    "from sklearn.model_selection import train_test_split"
   ]
  },
  {
   "cell_type": "code",
   "execution_count": null,
   "metadata": {
    "tags": [
     "prototyping"
    ]
   },
   "outputs": [],
   "source": [
    "%matplotlib inline"
   ]
  },
  {
   "cell_type": "code",
   "execution_count": null,
   "metadata": {},
   "outputs": [],
   "source": [
    "# Loading example data\n",
    "boston = datasets.load_boston()\n",
    "X = boston.data\n",
    "y = boston.target"
   ]
  },
  {
   "cell_type": "code",
   "execution_count": null,
   "metadata": {
    "tags": [
     "prototyping"
    ]
   },
   "outputs": [],
   "source": [
    "# Quick data check\n",
    "print(boston.DESCR)\n",
    "print(\"Label distribution:\")\n",
    "plt.title(\"House Price\")\n",
    "plt.plot(y);"
   ]
  },
  {
   "cell_type": "code",
   "execution_count": null,
   "metadata": {},
   "outputs": [],
   "source": [
    "X_train, X_test, y_train, y_test = train_test_split(boston.data, boston.target, test_size=0.2)\n",
    "estimator = RandomForestRegressor(n_estimators=100)"
   ]
  },
  {
   "cell_type": "code",
   "execution_count": null,
   "metadata": {},
   "outputs": [],
   "source": [
    "estimator.fit(X_train,y_train)"
   ]
  },
  {
   "cell_type": "code",
   "execution_count": null,
   "metadata": {},
   "outputs": [],
   "source": [
    "prediction = estimator.predict(X_test)"
   ]
  },
  {
   "cell_type": "code",
   "execution_count": null,
   "metadata": {},
   "outputs": [],
   "source": [
    "# Provide results to RapidMiner\n",
    "def rm_main():\n",
    "    # Create data frame with data the model was applied to\n",
    "    results = pd.DataFrame(\n",
    "        data=X_test,\n",
    "        columns=boston.feature_names)\n",
    "    # Add predictions to the data set\n",
    "    results['Prediction'] = prediction\n",
    "    # Add the true house prices\n",
    "    results['HousePrice'] = y_test\n",
    "    # And provide meta data information\n",
    "    meta_data = dict(Prediction = ('numerical', 'prediction'),\n",
    "                     HousePrice = ('numerical', 'label'))\n",
    "    results.rm_metadata = meta_data\n",
    "    \n",
    "    return results"
   ]
  }
 ],
 "metadata": {
  "celltoolbar": "Tags",
  "kernelspec": {
   "display_name": "Python 3",
   "language": "python",
   "name": "python3"
  },
  "language_info": {
   "codemirror_mode": {
    "name": "ipython",
    "version": 3
   },
   "file_extension": ".py",
   "mimetype": "text/x-python",
   "name": "python",
   "nbconvert_exporter": "python",
   "pygments_lexer": "ipython3",
   "version": "3.7.3"
  }
 },
 "nbformat": 4,
 "nbformat_minor": 2
}
